{
 "cells": [
  {
   "cell_type": "code",
   "execution_count": 10,
   "id": "c2b07fba",
   "metadata": {},
   "outputs": [],
   "source": [
    "import music21\n",
    "from music21 import stream, midi\n",
    "from music21 import converter\n",
    "import numpy as np\n",
    "\n",
    "def convert_single_note(midi_note):\n",
    "    if midi_note == '<REST>':\n",
    "        return '<REST>'\n",
    "    else:\n",
    "        if 0 <= midi_note <= 127:\n",
    "            pitches = ['C', 'C#', 'D', 'D#', 'E', 'F', 'F#', 'G', 'G#', 'A', 'A#', 'B']\n",
    "\n",
    "            octave = (midi_note // 12) - 1\n",
    "            pitch_index = midi_note % 12\n",
    "\n",
    "            pitch = pitches[pitch_index]\n",
    "            return f\"{pitch}{octave}\"\n",
    "        else:\n",
    "            return \"Invalid MIDI note value. Must be between 0 and 127.\"\n",
    "def le(t, xyz, *args, **kwargs):\n",
    "        d, r, b = kwargs['d'], kwargs['r'], kwargs['b']\n",
    "        x = xyz[0]\n",
    "        y = xyz[1]\n",
    "        z = xyz[2]\n",
    "        xdot = d*(y - x)\n",
    "        ydot = x*(r - z) - y\n",
    "        zdot = x*y - b*z\n",
    "        return np.array([xdot, ydot, zdot])\n",
    "def rk4(time=None, ini=None, f=le, h=0.01, *args, **kwargs):\n",
    "        t = np.arange(time[0], time[1]+h, h)\n",
    "        row = len(t)\n",
    "        try:\n",
    "            var = len(ini)\n",
    "        except TypeError:\n",
    "            var = 1\n",
    "        x = np.zeros((row, var))\n",
    "        x[0, :] = ini\n",
    "        for j in range(0, len(t)-1):\n",
    "            k1 = f(t[j], x[j], *args, **kwargs)\n",
    "            k2 = f(t[j] + 0.5*h, x[j] +0.5*h*k1, *args, **kwargs)\n",
    "            k3 = f(t[j] + 0.5*h, x[j] + 0.5*h*k2, *args, **kwargs)\n",
    "            k4 = f(t[j] + h, x[j] + h*k3, *args, **kwargs)\n",
    "            x[j+1, :] = x[j] + (h/6)*(k1 + 2*k2 + 2*k3 + k4)\n",
    "        return t, x\n",
    "seed1= np.array([1,1,1])\n",
    "seed2= np.array([0.9,1,1])\n",
    "time, xyz = rk4(time=[0,500], ini=seed1, d=10, r=28, b=8/3)\n",
    "x = xyz[:, 0]\n",
    "y = xyz[:, 1]\n",
    "z = xyz[:, 2]\n",
    "new_time, new_xyz = rk4(time=[0,500], ini=seed2, d=10, r=28, b=8/3)\n",
    "new_x = new_xyz[:, 0]\n",
    "new_y = new_xyz[:, 1]\n",
    "new_z = new_xyz[:, 2]"
   ]
  },
  {
   "cell_type": "code",
   "execution_count": 11,
   "id": "a5468622",
   "metadata": {},
   "outputs": [],
   "source": [
    "third_hand = False\n",
    "mf = midi.MidiFile()\n",
    "mf.open(\"Twinkle Twinkle Little Star MIDI.mid\")\n",
    "mf.read()\n",
    "mf.close()\n",
    "s = midi.translate.midiFileToStream(mf)\n",
    "s1 = s[0]\n",
    "s2 = s[1]\n",
    "if third_hand == True:\n",
    "    s3 = s[2]"
   ]
  },
  {
   "cell_type": "code",
   "execution_count": 3,
   "id": "23314c8b",
   "metadata": {},
   "outputs": [],
   "source": [
    "Melody_Chord_list1 = []\n",
    "Duration_list1 = []\n",
    "for part in s1:\n",
    "    for n in part.flat.notesAndRests:\n",
    "        if n.isRest:\n",
    "            dur = n.duration.quarterLength\n",
    "            note_num = \"<REST>\"\n",
    "            Melody_Chord_list1.append(note_num)\n",
    "            Duration_list1.append(dur)\n",
    "        else:\n",
    "            dur = n.duration.quarterLength\n",
    "            if len(n.pitches) == 1:\n",
    "                note_num = n.pitches[0].midi\n",
    "                Melody_Chord_list1.append(note_num)\n",
    "                Duration_list1.append(dur)\n",
    "            else: \n",
    "                note_num = sorted(set([p.midi for p in n.pitches]))\n",
    "                Melody_Chord_list1.append(list(note_num))\n",
    "                Duration_list1.append(dur)"
   ]
  },
  {
   "cell_type": "code",
   "execution_count": 4,
   "id": "1acf49d6",
   "metadata": {},
   "outputs": [
    {
     "data": {
      "text/plain": [
       "56"
      ]
     },
     "execution_count": 4,
     "metadata": {},
     "output_type": "execute_result"
    }
   ],
   "source": [
    "len(Melody_Chord_list1)"
   ]
  },
  {
   "cell_type": "code",
   "execution_count": 5,
   "id": "822f9c73",
   "metadata": {},
   "outputs": [
    {
     "data": {
      "text/plain": [
       "56"
      ]
     },
     "execution_count": 5,
     "metadata": {},
     "output_type": "execute_result"
    }
   ],
   "source": [
    "len(Duration_list1)"
   ]
  },
  {
   "cell_type": "code",
   "execution_count": 6,
   "id": "bb9ce83f",
   "metadata": {},
   "outputs": [],
   "source": [
    "Melody_Chord_list2 = []\n",
    "Duration_list2 = []\n",
    "for part in s2:\n",
    "    for n in part.flat.notesAndRests:\n",
    "        if n.isRest:\n",
    "            dur = n.duration.quarterLength\n",
    "            note_num = \"<REST>\"\n",
    "            Melody_Chord_list2.append(note_num)\n",
    "            Duration_list2.append(dur)\n",
    "        else:\n",
    "            dur = n.duration.quarterLength\n",
    "            if len(n.pitches) == 1:\n",
    "                note_num = n.pitches[0].midi\n",
    "                Melody_Chord_list2.append(note_num)\n",
    "                Duration_list2.append(dur)\n",
    "            else: \n",
    "                note_num = sorted(set([p.midi for p in n.pitches]))\n",
    "                Melody_Chord_list2.append(list(note_num))\n",
    "                Duration_list2.append(dur)"
   ]
  },
  {
   "cell_type": "code",
   "execution_count": 7,
   "id": "a836c7f3",
   "metadata": {},
   "outputs": [
    {
     "data": {
      "text/plain": [
       "46"
      ]
     },
     "execution_count": 7,
     "metadata": {},
     "output_type": "execute_result"
    }
   ],
   "source": [
    "len(Melody_Chord_list2)"
   ]
  },
  {
   "cell_type": "code",
   "execution_count": 8,
   "id": "7d87fe91",
   "metadata": {},
   "outputs": [
    {
     "data": {
      "text/plain": [
       "46"
      ]
     },
     "execution_count": 8,
     "metadata": {},
     "output_type": "execute_result"
    }
   ],
   "source": [
    "len(Duration_list2)"
   ]
  },
  {
   "cell_type": "code",
   "execution_count": 9,
   "id": "bc6a48d1",
   "metadata": {},
   "outputs": [],
   "source": [
    "if third_hand == True:\n",
    "    Melody_Chord_list3 = []\n",
    "    Duration_list3 = []\n",
    "    for part in s3:\n",
    "        for n in part.flat.notesAndRests:\n",
    "            if n.isRest:\n",
    "                dur = n.duration.quarterLength\n",
    "                note_num = \"<REST>\"\n",
    "                Melody_Chord_list3.append(note_num)\n",
    "                Duration_list3.append(dur)\n",
    "            else:\n",
    "                dur = n.duration.quarterLength\n",
    "                if len(n.pitches) == 1:\n",
    "                    note_num = n.pitches[0].midi\n",
    "                    Melody_Chord_list3.append(note_num)\n",
    "                    Duration_list3.append(dur)\n",
    "                else: \n",
    "                    note_num = sorted(set([p.midi for p in n.pitches]))\n",
    "                    Melody_Chord_list3.append(list(note_num))\n",
    "                    Duration_list3.append(dur)\n",
    "    print(len(Melody_Chord_list3))\n",
    "    print(len(Duration_list3))"
   ]
  },
  {
   "cell_type": "code",
   "execution_count": 10,
   "id": "593a3b1b",
   "metadata": {},
   "outputs": [],
   "source": [
    "STR_Melody_Chord_list1 = Melody_Chord_list1\n",
    "for i in range(len(Melody_Chord_list1)):\n",
    "    try:\n",
    "        STR_Melody_Chord_list1[i] = convert_single_note(Melody_Chord_list1[i])\n",
    "    except TypeError:\n",
    "        for j in range(len(Melody_Chord_list1[i])):\n",
    "            STR_Melody_Chord_list1[i][j] = convert_single_note(Melody_Chord_list1[i][j])"
   ]
  },
  {
   "cell_type": "code",
   "execution_count": 11,
   "id": "f0a77bdc",
   "metadata": {},
   "outputs": [],
   "source": [
    "STR_Melody_Chord_list2 = Melody_Chord_list2\n",
    "for i in range(len(Melody_Chord_list2)):\n",
    "    try:\n",
    "        STR_Melody_Chord_list2[i] = convert_single_note(Melody_Chord_list2[i])\n",
    "    except TypeError:\n",
    "        for j in range(len(Melody_Chord_list2[i])):\n",
    "            STR_Melody_Chord_list2[i][j] = convert_single_note(Melody_Chord_list2[i][j])"
   ]
  },
  {
   "cell_type": "code",
   "execution_count": 12,
   "id": "0ffc5abf",
   "metadata": {},
   "outputs": [],
   "source": [
    "if third_hand == True:\n",
    "    STR_Melody_Chord_list3 = Melody_Chord_list3\n",
    "    for i in range(len(Melody_Chord_list3)):\n",
    "        try:\n",
    "            STR_Melody_Chord_list3[i] = convert_single_note(Melody_Chord_list3[i])\n",
    "        except TypeError:\n",
    "            for j in range(len(Melody_Chord_list3[i])):\n",
    "                STR_Melody_Chord_list3[i][j] = convert_single_note(Melody_Chord_list3[i][j])"
   ]
  },
  {
   "cell_type": "code",
   "execution_count": 13,
   "id": "12911669",
   "metadata": {},
   "outputs": [],
   "source": [
    "Criteria_Melody_Chord_list1 = [[index, \n",
    "                               x[::5][index], \n",
    "                               STR_Melody_Chord_list1[index]] \n",
    "                              for index in range(len(STR_Melody_Chord_list1))]\n",
    "New_Melody_Chord_list1 = [[index, \n",
    "                          new_x[::5][index]]\n",
    "                         for index in range(len(STR_Melody_Chord_list1))]"
   ]
  },
  {
   "cell_type": "code",
   "execution_count": 14,
   "id": "9a4b3920",
   "metadata": {},
   "outputs": [],
   "source": [
    "Criteria_Melody_Chord_list2 = [[index, \n",
    "                               x[::5][index], \n",
    "                               STR_Melody_Chord_list2[index]] \n",
    "                              for index in range(len(STR_Melody_Chord_list2))]\n",
    "New_Melody_Chord_list2 = [[index, \n",
    "                          new_x[::5][index]]\n",
    "                         for index in range(len(STR_Melody_Chord_list2))]"
   ]
  },
  {
   "cell_type": "code",
   "execution_count": 15,
   "id": "956a639b",
   "metadata": {},
   "outputs": [],
   "source": [
    "if third_hand == True:\n",
    "    Criteria_Melody_Chord_list3 = [[index, \n",
    "                                    x[::5][index], \n",
    "                                    STR_Melody_Chord_list3[index]] \n",
    "                                   for index in range(len(STR_Melody_Chord_list3))]\n",
    "    New_Melody_Chord_list3 = [[index, \n",
    "                               new_x[::5][index]]\n",
    "                              for index in range(len(STR_Melody_Chord_list3))]"
   ]
  },
  {
   "cell_type": "code",
   "execution_count": 16,
   "id": "c4472353",
   "metadata": {},
   "outputs": [],
   "source": [
    "Sorted_Criteria_Melody_Chord_list1 = sorted(Criteria_Melody_Chord_list1, key=lambda x: x[1])"
   ]
  },
  {
   "cell_type": "code",
   "execution_count": 17,
   "id": "c810b470",
   "metadata": {},
   "outputs": [],
   "source": [
    "Sorted_Criteria_Melody_Chord_list2 = sorted(Criteria_Melody_Chord_list2, key=lambda x: x[1])"
   ]
  },
  {
   "cell_type": "code",
   "execution_count": 18,
   "id": "300f0da9",
   "metadata": {},
   "outputs": [],
   "source": [
    "if third_hand == True:\n",
    "    Sorted_Criteria_Melody_Chord_list3 = sorted(Criteria_Melody_Chord_list3, key=lambda x: x[1])"
   ]
  },
  {
   "cell_type": "code",
   "execution_count": 19,
   "id": "647531c3",
   "metadata": {},
   "outputs": [],
   "source": [
    "biindex1 = [i for i in range(int(-len(Sorted_Criteria_Melody_Chord_list1)/2), \n",
    "                             int(len(Sorted_Criteria_Melody_Chord_list1)/2))]\n",
    "biindex2 = [i for i in range(int(-len(Sorted_Criteria_Melody_Chord_list2)/2), \n",
    "                             int(len(Sorted_Criteria_Melody_Chord_list2)/2))]\n",
    "if third_hand == True:\n",
    "    biindex3 = [i for i in range(int(-len(Sorted_Criteria_Melody_Chord_list3)/2), \n",
    "                                 int(len(Sorted_Criteria_Melody_Chord_list3)/2))]\n",
    "    if len(Criteria_Melody_Chord_list3) != len(biindex3):\n",
    "        biindex3 = [i for i in range(int(-len(Sorted_Criteria_Melody_Chord_list3)/2), \n",
    "                                     int(len(Sorted_Criteria_Melody_Chord_list3)/2) + 1)]"
   ]
  },
  {
   "cell_type": "code",
   "execution_count": 20,
   "id": "b3d45f98",
   "metadata": {},
   "outputs": [],
   "source": [
    "if len(Criteria_Melody_Chord_list1) != len(biindex1):\n",
    "    biindex1 = [i for i in range(int(-len(Sorted_Criteria_Melody_Chord_list1)/2), int(len(Sorted_Criteria_Melody_Chord_list1)/2) + 1)]\n",
    "if len(Criteria_Melody_Chord_list2) != len(biindex2):\n",
    "    biindex2 = [i for i in range(int(-len(Sorted_Criteria_Melody_Chord_list2)/2), int(len(Sorted_Criteria_Melody_Chord_list2)/2) + 1)]"
   ]
  },
  {
   "cell_type": "code",
   "execution_count": 21,
   "id": "2ce67d70",
   "metadata": {},
   "outputs": [],
   "source": [
    "Criteria_Melody_Chord_list1 = [[biindex1[index], \n",
    "                               Sorted_Criteria_Melody_Chord_list1[index][1], \n",
    "                               Sorted_Criteria_Melody_Chord_list1[index][2]] \n",
    "                              for index in range(len(Sorted_Criteria_Melody_Chord_list1))]"
   ]
  },
  {
   "cell_type": "code",
   "execution_count": 22,
   "id": "15e957c7",
   "metadata": {},
   "outputs": [],
   "source": [
    "Criteria_Melody_Chord_list2 = [[biindex2[index], \n",
    "                               Sorted_Criteria_Melody_Chord_list2[index][1], \n",
    "                               Sorted_Criteria_Melody_Chord_list2[index][2]] \n",
    "                              for index in range(len(Sorted_Criteria_Melody_Chord_list2))]"
   ]
  },
  {
   "cell_type": "code",
   "execution_count": 23,
   "id": "f1b863a0",
   "metadata": {},
   "outputs": [],
   "source": [
    "if third_hand == True:\n",
    "    Criteria_Melody_Chord_list3 = [[biindex3[index], \n",
    "                                    Sorted_Criteria_Melody_Chord_list3[index][1], \n",
    "                                    Sorted_Criteria_Melody_Chord_list3[index][2]] \n",
    "                                   for index in range(len(Sorted_Criteria_Melody_Chord_list3))]"
   ]
  },
  {
   "cell_type": "code",
   "execution_count": 24,
   "id": "bd74a191",
   "metadata": {},
   "outputs": [],
   "source": [
    "Result1 = [None]*len(Criteria_Melody_Chord_list1)\n",
    "for mc in range(len(New_Melody_Chord_list1)):\n",
    "    for smml in range(len(Criteria_Melody_Chord_list1)):\n",
    "        if (New_Melody_Chord_list1[mc][1] < (Criteria_Melody_Chord_list1[smml][1] + Criteria_Melody_Chord_list1[smml - 1][1])/2) and (smml > 0):\n",
    "            target_value = Criteria_Melody_Chord_list1[smml][0] - 1\n",
    "            Result1[mc] = target_value\n",
    "            break\n",
    "        elif (New_Melody_Chord_list1[mc][1] < Criteria_Melody_Chord_list1[smml][1]) and (smml == 0):\n",
    "            target_value = Criteria_Melody_Chord_list1[smml][0] - 1\n",
    "            Result1[mc] = target_value"
   ]
  },
  {
   "cell_type": "code",
   "execution_count": 25,
   "id": "71fb49a9",
   "metadata": {},
   "outputs": [],
   "source": [
    "Result2 = [None]*len(Criteria_Melody_Chord_list2)\n",
    "for mc in range(len(New_Melody_Chord_list2)):\n",
    "    for smml in range(len(Criteria_Melody_Chord_list2)):\n",
    "        if (New_Melody_Chord_list2[mc][1] < (Criteria_Melody_Chord_list2[smml][1] + Criteria_Melody_Chord_list2[smml - 1][1])/2) and (smml > 0):\n",
    "            target_value = Criteria_Melody_Chord_list2[smml][0] - 1\n",
    "            Result2[mc] = target_value\n",
    "            break\n",
    "        elif New_Melody_Chord_list2[mc][1] < Criteria_Melody_Chord_list2[smml][1] and (smml == 0):\n",
    "            target_value = Criteria_Melody_Chord_list2[smml][0] - 1\n",
    "            Result2[mc] = target_value\n",
    "            break"
   ]
  },
  {
   "cell_type": "code",
   "execution_count": 26,
   "id": "879e5e88",
   "metadata": {},
   "outputs": [],
   "source": [
    "if third_hand == True:\n",
    "    Result3 = [None]*len(Criteria_Melody_Chord_list3)\n",
    "    for mc in range(len(New_Melody_Chord_list3)):\n",
    "        for smml in range(len(Criteria_Melody_Chord_list3)):\n",
    "            if (New_Melody_Chord_list3[mc][1] < (Criteria_Melody_Chord_list3[smml][1] + Criteria_Melody_Chord_list3[smml - 1][1])/2) and (smml > 0):\n",
    "                target_value = Criteria_Melody_Chord_list3[smml][0] - 1\n",
    "                Result3[mc] = target_value\n",
    "                break\n",
    "            elif New_Melody_Chord_list3[mc][1] < Criteria_Melody_Chord_list3[smml][1] and (smml == 0):\n",
    "                target_value = Criteria_Melody_Chord_list3[smml][0] - 1\n",
    "                Result3[mc] = target_value\n",
    "                break"
   ]
  },
  {
   "cell_type": "code",
   "execution_count": 27,
   "id": "a77f4153",
   "metadata": {},
   "outputs": [],
   "source": [
    "for check in range(len(Result1)):\n",
    "    if (Result1[check] == None) and (New_Melody_Chord_list1[check][1] >= Criteria_Melody_Chord_list1[check][1]):\n",
    "        Result1[check] = max(Criteria_Melody_Chord_list1)[0]\n",
    "    elif (Result1[check] == None) and (New_Melody_Chord_list1[check][1] <= Criteria_Melody_Chord_list1[check][1]):\n",
    "        Result1[check] = min(Criteria_Melody_Chord_list1)[0]"
   ]
  },
  {
   "cell_type": "code",
   "execution_count": 28,
   "id": "d2afd07b",
   "metadata": {},
   "outputs": [],
   "source": [
    "for check in range(len(Result2)):\n",
    "    if (Result2[check] == None) and (New_Melody_Chord_list2[check][1] >= Criteria_Melody_Chord_list2[check][1]):\n",
    "        Result2[check] = max(Criteria_Melody_Chord_list2)[0]\n",
    "    elif (Result2[check] == None) and (New_Melody_Chord_list2[check][1] <= Criteria_Melody_Chord_list2[check][1]):\n",
    "        Result2[check] = min(Criteria_Melody_Chord_list2)[0]"
   ]
  },
  {
   "cell_type": "code",
   "execution_count": 29,
   "id": "c442fc70",
   "metadata": {},
   "outputs": [],
   "source": [
    "if third_hand == True:\n",
    "    for check in range(len(Result3)):\n",
    "        if (Result3[check] == None) and (New_Melody_Chord_list3[check][1] >= Criteria_Melody_Chord_list3[check][1]):\n",
    "            Result3[check] = max(Criteria_Melody_Chord_list3)[0]\n",
    "        elif (Result3[check] == None) and (New_Melody_Chord_list3[check][1] <= Criteria_Melody_Chord_list3[check][1]):\n",
    "            Result3[check] = min(Criteria_Melody_Chord_list3)[0]"
   ]
  },
  {
   "cell_type": "code",
   "execution_count": 30,
   "id": "98ac9b65",
   "metadata": {},
   "outputs": [],
   "source": [
    "Result1 = [element + int(len(Sorted_Criteria_Melody_Chord_list1)/2) for element in Result1]\n",
    "Result2 = [element + int(len(Sorted_Criteria_Melody_Chord_list2)/2) for element in Result2]\n",
    "if third_hand == True:\n",
    "    Result3 = [element + int(len(Sorted_Criteria_Melody_Chord_list3)/2) for element in Result3]"
   ]
  },
  {
   "cell_type": "code",
   "execution_count": 31,
   "id": "6c97dbba",
   "metadata": {},
   "outputs": [],
   "source": [
    "NV_Melody_Chord_list1 = [Criteria_Melody_Chord_list1[rindex][2] for rindex in Result1]\n",
    "NV_Melody_Chord_list2 = [Criteria_Melody_Chord_list2[rindex][2] for rindex in Result2]\n",
    "if third_hand == True:\n",
    "    NV_Melody_Chord_list3 = [Criteria_Melody_Chord_list3[rindex][2] for rindex in Result3]"
   ]
  },
  {
   "cell_type": "code",
   "execution_count": 32,
   "id": "8fd9eafd",
   "metadata": {},
   "outputs": [],
   "source": [
    "ss = midi.translate.midiFileToStream(mf)\n",
    "ss1 = ss[0]\n",
    "ss2 = ss[1]\n",
    "old_note_name1 = STR_Melody_Chord_list1\n",
    "replacement_list1 = NV_Melody_Chord_list1\n",
    "old_note_name2 = STR_Melody_Chord_list2\n",
    "replacement_list2 = NV_Melody_Chord_list2\n",
    "if third_hand == True:\n",
    "    ss3 = ss[2]\n",
    "    old_note_name3 = STR_Melody_Chord_list3\n",
    "    replacement_list3 = NV_Melody_Chord_list3"
   ]
  },
  {
   "cell_type": "code",
   "execution_count": 33,
   "id": "e3bcfbc0",
   "metadata": {},
   "outputs": [],
   "source": [
    "replacement_list1.insert(-1, NV_Melody_Chord_list1[-1])\n",
    "replacement_list2.insert(-1, NV_Melody_Chord_list2[-1])\n",
    "if third_hand == True:\n",
    "    replacement_list3.insert(-1, NV_Melody_Chord_list3[-1])"
   ]
  },
  {
   "cell_type": "code",
   "execution_count": 34,
   "id": "00229248",
   "metadata": {},
   "outputs": [],
   "source": [
    "Duration_list1.insert(-1, Duration_list1[-1])\n",
    "Duration_list2.insert(-1, Duration_list2[-1])\n",
    "if third_hand == True:\n",
    "    Duration_list3.insert(-1, Duration_list3[-1])"
   ]
  },
  {
   "cell_type": "code",
   "execution_count": 35,
   "id": "40f8a60e",
   "metadata": {},
   "outputs": [
    {
     "name": "stdout",
     "output_type": "stream",
     "text": [
      "56\n"
     ]
    }
   ],
   "source": [
    "index1 = 0\n",
    "for element in ss1.recurse():\n",
    "    if isinstance(element, (music21.note.Note, music21.chord.Chord, music21.note.Rest)):\n",
    "        replacement1 = replacement_list1[index1]\n",
    "        duration_value1 = Duration_list1[index1]\n",
    "        if replacement1 == '<REST>':\n",
    "            # If the replacement is '<REST>', replace with a rest\n",
    "            new_element = music21.note.Rest()\n",
    "        elif isinstance(replacement1, list):\n",
    "            # If the replacement is a chord, create a chord object\n",
    "            new_element = music21.chord.Chord(replacement1)\n",
    "        else:\n",
    "            # If the replacement is a note, create a note object\n",
    "            new_element = music21.note.Note(replacement1)\n",
    "\n",
    "        # Set the duration for the new element\n",
    "        new_element.duration = music21.duration.Duration(duration_value1)\n",
    "        # Replace the old element with the new element\n",
    "        element.activeSite.replace(element, new_element)\n",
    "\n",
    "        index1 += 1\n",
    "print(index1)"
   ]
  },
  {
   "cell_type": "code",
   "execution_count": 36,
   "id": "789894f3",
   "metadata": {},
   "outputs": [
    {
     "name": "stdout",
     "output_type": "stream",
     "text": [
      "46\n"
     ]
    }
   ],
   "source": [
    "index2 = 0\n",
    "for element in ss2.recurse():\n",
    "    if isinstance(element, (music21.note.Note, music21.chord.Chord, music21.note.Rest)):\n",
    "        replacement2 = replacement_list2[index2]\n",
    "        duration_value2 = Duration_list2[index2]\n",
    "        if replacement2 == '<REST>':\n",
    "            # If the replacement is '<REST>', replace with a rest\n",
    "            new_element = music21.note.Rest()\n",
    "        elif isinstance(replacement2, list):\n",
    "            # If the replacement is a chord, create a chord object\n",
    "            new_element = music21.chord.Chord(replacement2)\n",
    "        else:\n",
    "            # If the replacement is a note, create a note object\n",
    "            new_element = music21.note.Note(replacement2)\n",
    "\n",
    "        # Set the duration for the new element\n",
    "        new_element.duration = music21.duration.Duration(duration_value2)\n",
    "        # Replace the old element with the new element\n",
    "        element.activeSite.replace(element, new_element)\n",
    "\n",
    "        index2 += 1\n",
    "print(index2)"
   ]
  },
  {
   "cell_type": "code",
   "execution_count": 37,
   "id": "c58e558f",
   "metadata": {},
   "outputs": [],
   "source": [
    "if third_hand == True:\n",
    "    index3 = 0\n",
    "    for element in ss3.recurse():\n",
    "        if isinstance(element, (music21.note.Note, music21.chord.Chord, music21.note.Rest)):\n",
    "            # Check if the replacement_list still has elements\n",
    "            if replacement_list3:\n",
    "                replacement3 = replacement_list3[index3]\n",
    "                duration_value3 = Duration_list3[index3]\n",
    "\n",
    "                if replacement3 == '<REST>':\n",
    "                    # If the replacement is '<REST>', replace with a rest\n",
    "                    new_element = music21.note.Rest()\n",
    "                elif isinstance(replacement3, list):\n",
    "                    # If the replacement is a chord, create a chord object\n",
    "                    new_element = music21.chord.Chord(replacement3)\n",
    "                else:\n",
    "                    # If the replacement is a note, create a note object\n",
    "                    new_element = music21.note.Note(replacement3)\n",
    "\n",
    "                # Set the duration for the new element\n",
    "                new_element.duration = music21.duration.Duration(duration_value3)\n",
    "\n",
    "                # Replace the old element with the new element\n",
    "                element.activeSite.replace(element, new_element)\n",
    "\n",
    "                index3 += 1\n",
    "    print(index3)"
   ]
  },
  {
   "cell_type": "code",
   "execution_count": 38,
   "id": "65e06ec4",
   "metadata": {
    "scrolled": true
   },
   "outputs": [
    {
     "name": "stdout",
     "output_type": "stream",
     "text": [
      "{0.0} <music21.stream.Part 0x16434fcc5b0>\n",
      "    {0.0} <music21.stream.Measure 1 offset=0.0>\n",
      "        {0.0} <music21.clef.TrebleClef>\n",
      "        {0.0} <music21.tempo.MetronomeMark andante Quarter=72.0>\n",
      "        {0.0} <music21.key.Key of C major>\n",
      "        {0.0} <music21.meter.TimeSignature 4/4>\n",
      "        {0.0} <music21.note.Note C>\n",
      "        {1.0} <music21.note.Note E>\n",
      "        {2.0} <music21.note.Note G>\n",
      "        {3.0} <music21.note.Note G>\n",
      "    {4.0} <music21.stream.Measure 2 offset=4.0>\n",
      "        {0.0} <music21.note.Note A>\n",
      "        {1.0} <music21.note.Note A>\n",
      "        {2.0} <music21.note.Note G>\n",
      "    {8.0} <music21.stream.Measure 3 offset=8.0>\n",
      "        {0.0} <music21.note.Note F>\n",
      "        {1.0} <music21.note.Note G>\n",
      "        {2.0} <music21.note.Note E>\n",
      "        {3.0} <music21.note.Note C>\n",
      "    {12.0} <music21.stream.Measure 4 offset=12.0>\n",
      "        {0.0} <music21.note.Note D>\n",
      "        {1.0} <music21.note.Note D>\n",
      "        {2.0} <music21.note.Note C>\n",
      "    {16.0} <music21.stream.Measure 5 offset=16.0>\n",
      "        {0.0} <music21.note.Note F>\n",
      "        {1.0} <music21.note.Note E>\n",
      "        {2.0} <music21.note.Note D>\n",
      "        {3.0} <music21.note.Note F>\n",
      "    {20.0} <music21.stream.Measure 6 offset=20.0>\n",
      "        {0.0} <music21.note.Note G>\n",
      "        {1.0} <music21.note.Note E>\n",
      "        {2.0} <music21.note.Note G>\n",
      "    {24.0} <music21.stream.Measure 7 offset=24.0>\n",
      "        {0.0} <music21.note.Note C>\n",
      "        {1.0} <music21.note.Note D>\n",
      "        {2.0} <music21.note.Note D>\n",
      "        {3.0} <music21.note.Note F>\n",
      "    {28.0} <music21.stream.Measure 8 offset=28.0>\n",
      "        {0.0} <music21.note.Note E>\n",
      "        {1.0} <music21.note.Note E>\n",
      "        {2.0} <music21.note.Note E>\n",
      "    {32.0} <music21.stream.Measure 9 offset=32.0>\n",
      "        {0.0} <music21.note.Note C>\n",
      "        {1.0} <music21.note.Note A>\n",
      "        {2.0} <music21.note.Note A>\n",
      "        {3.0} <music21.note.Note G>\n",
      "    {36.0} <music21.stream.Measure 10 offset=36.0>\n",
      "        {0.0} <music21.note.Note G>\n",
      "        {1.0} <music21.note.Note C>\n",
      "        {2.0} <music21.note.Note C>\n",
      "    {40.0} <music21.stream.Measure 11 offset=40.0>\n",
      "        {0.0} <music21.note.Note F>\n",
      "        {1.0} <music21.note.Note E>\n",
      "        {2.0} <music21.note.Note E>\n",
      "        {3.0} <music21.note.Note E>\n",
      "    {44.0} <music21.stream.Measure 12 offset=44.0>\n",
      "        {0.0} <music21.note.Note F>\n",
      "        {1.0} <music21.note.Note G>\n",
      "        {2.0} <music21.note.Note G>\n",
      "    {48.0} <music21.stream.Measure 13 offset=48.0>\n",
      "        {0.0} <music21.note.Note C>\n",
      "        {1.0} <music21.note.Note C>\n",
      "        {2.0} <music21.note.Note C>\n",
      "        {3.0} <music21.note.Note G>\n",
      "    {52.0} <music21.stream.Measure 14 offset=52.0>\n",
      "        {0.0} <music21.note.Note G>\n",
      "        {1.0} <music21.note.Note A>\n",
      "        {2.0} <music21.note.Note E>\n",
      "    {56.0} <music21.stream.Measure 15 offset=56.0>\n",
      "        {0.0} <music21.note.Note F>\n",
      "        {1.0} <music21.note.Note F>\n",
      "        {2.0} <music21.note.Note F>\n",
      "        {3.0} <music21.note.Note E>\n",
      "    {60.0} <music21.stream.Measure 16 offset=60.0>\n",
      "        {0.0} <music21.note.Note C>\n",
      "        {1.0} <music21.note.Note F>\n",
      "        {2.0} <music21.note.Note G>\n",
      "        {4.0} <music21.bar.Barline type=final>\n",
      "{0.0} <music21.stream.Part 0x16434fecf40>\n",
      "    {0.0} <music21.stream.Measure 1 offset=0.0>\n",
      "        {0.0} <music21.clef.BassClef>\n",
      "        {0.0} <music21.tempo.MetronomeMark andante Quarter=72.0>\n",
      "        {0.0} <music21.key.Key of C major>\n",
      "        {0.0} <music21.meter.TimeSignature 4/4>\n",
      "        {0.0} <music21.chord.Chord C3 E3 G3>\n",
      "    {4.0} <music21.stream.Measure 2 offset=4.0>\n",
      "        {0.0} <music21.chord.Chord G3 B3>\n",
      "        {2.0} <music21.chord.Chord C3 E3 G3>\n",
      "    {8.0} <music21.stream.Measure 3 offset=8.0>\n",
      "        {0.0} <music21.chord.Chord D3 F3 A3>\n",
      "        {2.0} <music21.chord.Chord C3 E3 G3>\n",
      "    {12.0} <music21.stream.Measure 4 offset=12.0>\n",
      "        {0.0} <music21.chord.Chord F3 G3 B3>\n",
      "        {2.0} <music21.chord.Chord C3 E3 G3>\n",
      "    {16.0} <music21.stream.Measure 5 offset=16.0>\n",
      "        {0.0} <music21.chord.Chord G3 C4>\n",
      "        {2.0} <music21.chord.Chord C3 E3 G3>\n",
      "    {20.0} <music21.stream.Measure 6 offset=20.0>\n",
      "        {0.0} <music21.chord.Chord G3 C4>\n",
      "        {2.0} <music21.chord.Chord C3 F3 A3>\n",
      "    {24.0} <music21.stream.Measure 7 offset=24.0>\n",
      "        {0.0} <music21.chord.Chord G3 C4>\n",
      "        {2.0} <music21.chord.Chord G3 B3>\n",
      "    {28.0} <music21.stream.Measure 8 offset=28.0>\n",
      "        {0.0} <music21.chord.Chord G3 C4>\n",
      "        {2.0} <music21.note.Note C>\n",
      "    {32.0} <music21.stream.Measure 9 offset=32.0>\n",
      "        {0.0} <music21.note.Note G>\n",
      "    {36.0} <music21.stream.Measure 10 offset=36.0>\n",
      "        {0.0} <music21.chord.Chord C3 F3 A3>\n",
      "        {2.0} <music21.chord.Chord C3 E3 G3>\n",
      "    {40.0} <music21.stream.Measure 11 offset=40.0>\n",
      "        {0.0} <music21.note.Note A>\n",
      "        {2.0} <music21.chord.Chord C3 E3 G3>\n",
      "    {44.0} <music21.stream.Measure 12 offset=44.0>\n",
      "        {0.0} <music21.note.Note G>\n",
      "        {2.0} <music21.note.Note G>\n",
      "    {48.0} <music21.stream.Measure 13 offset=48.0>\n",
      "        {0.0} <music21.note.Note F>\n",
      "        {0.5} <music21.note.Note G>\n",
      "        {1.0} <music21.note.Note A>\n",
      "        {2.0} <music21.note.Note C>\n",
      "        {2.5} <music21.note.Note E>\n",
      "        {3.0} <music21.note.Note G>\n",
      "    {52.0} <music21.stream.Measure 14 offset=52.0>\n",
      "        {0.0} <music21.note.Note C>\n",
      "        {0.5} <music21.note.Note G>\n",
      "        {1.0} <music21.note.Note E>\n",
      "        {2.0} <music21.note.Note C>\n",
      "        {2.5} <music21.note.Note A>\n",
      "        {3.0} <music21.note.Note F>\n",
      "    {56.0} <music21.stream.Measure 15 offset=56.0>\n",
      "        {0.0} <music21.note.Note C>\n",
      "        {0.5} <music21.note.Note F>\n",
      "        {1.0} <music21.note.Note A>\n",
      "        {2.0} <music21.note.Note C>\n",
      "        {2.5} <music21.note.Note C>\n",
      "        {3.0} <music21.note.Note E>\n",
      "    {60.0} <music21.stream.Measure 16 offset=60.0>\n",
      "        {0.0} <music21.note.Note C>\n",
      "        {0.5} <music21.chord.Chord C3 E3 G3>\n",
      "        {1.0} <music21.note.Note B>\n",
      "        {2.0} <music21.note.Note E>\n",
      "        {2.5} <music21.note.Note E>\n",
      "        {3.0} <music21.note.Note G>\n",
      "        {4.0} <music21.bar.Barline type=final>\n"
     ]
    }
   ],
   "source": [
    "ss.show('text')"
   ]
  },
  {
   "cell_type": "code",
   "execution_count": 39,
   "id": "3e3b35f5",
   "metadata": {
    "scrolled": true
   },
   "outputs": [
    {
     "name": "stdout",
     "output_type": "stream",
     "text": [
      "{0.0} <music21.stream.Part 0x164332130a0>\n",
      "    {0.0} <music21.stream.Measure 1 offset=0.0>\n",
      "        {0.0} <music21.clef.TrebleClef>\n",
      "        {0.0} <music21.tempo.MetronomeMark andante Quarter=72.0>\n",
      "        {0.0} <music21.key.Key of C major>\n",
      "        {0.0} <music21.meter.TimeSignature 4/4>\n",
      "        {0.0} <music21.note.Note C>\n",
      "        {1.0} <music21.note.Note C>\n",
      "        {2.0} <music21.note.Note G>\n",
      "        {3.0} <music21.note.Note G>\n",
      "    {4.0} <music21.stream.Measure 2 offset=4.0>\n",
      "        {0.0} <music21.note.Note A>\n",
      "        {1.0} <music21.note.Note A>\n",
      "        {2.0} <music21.note.Note G>\n",
      "    {8.0} <music21.stream.Measure 3 offset=8.0>\n",
      "        {0.0} <music21.note.Note F>\n",
      "        {1.0} <music21.note.Note F>\n",
      "        {2.0} <music21.note.Note E>\n",
      "        {3.0} <music21.note.Note E>\n",
      "    {12.0} <music21.stream.Measure 4 offset=12.0>\n",
      "        {0.0} <music21.note.Note D>\n",
      "        {1.0} <music21.note.Note D>\n",
      "        {2.0} <music21.note.Note C>\n",
      "    {16.0} <music21.stream.Measure 5 offset=16.0>\n",
      "        {0.0} <music21.note.Note G>\n",
      "        {1.0} <music21.note.Note G>\n",
      "        {2.0} <music21.note.Note F>\n",
      "        {3.0} <music21.note.Note F>\n",
      "    {20.0} <music21.stream.Measure 6 offset=20.0>\n",
      "        {0.0} <music21.note.Note E>\n",
      "        {1.0} <music21.note.Note E>\n",
      "        {2.0} <music21.note.Note D>\n",
      "    {24.0} <music21.stream.Measure 7 offset=24.0>\n",
      "        {0.0} <music21.note.Note G>\n",
      "        {1.0} <music21.note.Note G>\n",
      "        {2.0} <music21.note.Note F>\n",
      "        {3.0} <music21.note.Note F>\n",
      "    {28.0} <music21.stream.Measure 8 offset=28.0>\n",
      "        {0.0} <music21.note.Note E>\n",
      "        {1.0} <music21.note.Note E>\n",
      "        {2.0} <music21.note.Note D>\n",
      "    {32.0} <music21.stream.Measure 9 offset=32.0>\n",
      "        {0.0} <music21.note.Note C>\n",
      "        {1.0} <music21.note.Note C>\n",
      "        {2.0} <music21.note.Note G>\n",
      "        {3.0} <music21.note.Note G>\n",
      "    {36.0} <music21.stream.Measure 10 offset=36.0>\n",
      "        {0.0} <music21.note.Note A>\n",
      "        {1.0} <music21.note.Note A>\n",
      "        {2.0} <music21.note.Note G>\n",
      "    {40.0} <music21.stream.Measure 11 offset=40.0>\n",
      "        {0.0} <music21.note.Note F>\n",
      "        {1.0} <music21.note.Note F>\n",
      "        {2.0} <music21.note.Note E>\n",
      "        {3.0} <music21.note.Note E>\n",
      "    {44.0} <music21.stream.Measure 12 offset=44.0>\n",
      "        {0.0} <music21.note.Note D>\n",
      "        {1.0} <music21.note.Note D>\n",
      "        {2.0} <music21.note.Note C>\n",
      "    {48.0} <music21.stream.Measure 13 offset=48.0>\n",
      "        {0.0} <music21.note.Note C>\n",
      "        {1.0} <music21.note.Note C>\n",
      "        {2.0} <music21.note.Note G>\n",
      "        {3.0} <music21.note.Note G>\n",
      "    {52.0} <music21.stream.Measure 14 offset=52.0>\n",
      "        {0.0} <music21.note.Note A>\n",
      "        {1.0} <music21.note.Note A>\n",
      "        {2.0} <music21.note.Note G>\n",
      "    {56.0} <music21.stream.Measure 15 offset=56.0>\n",
      "        {0.0} <music21.note.Note F>\n",
      "        {1.0} <music21.note.Note F>\n",
      "        {2.0} <music21.note.Note E>\n",
      "        {3.0} <music21.note.Note E>\n",
      "    {60.0} <music21.stream.Measure 16 offset=60.0>\n",
      "        {0.0} <music21.note.Note D>\n",
      "        {1.0} <music21.note.Note D>\n",
      "        {2.0} <music21.note.Note C>\n",
      "        {4.0} <music21.bar.Barline type=final>\n",
      "{0.0} <music21.stream.Part 0x1643326f670>\n",
      "    {0.0} <music21.stream.Measure 1 offset=0.0>\n",
      "        {0.0} <music21.clef.BassClef>\n",
      "        {0.0} <music21.tempo.MetronomeMark andante Quarter=72.0>\n",
      "        {0.0} <music21.key.Key of C major>\n",
      "        {0.0} <music21.meter.TimeSignature 4/4>\n",
      "        {0.0} <music21.chord.Chord C3 E3 G3>\n",
      "    {4.0} <music21.stream.Measure 2 offset=4.0>\n",
      "        {0.0} <music21.chord.Chord C3 F3 A3>\n",
      "        {2.0} <music21.chord.Chord C3 E3 G3>\n",
      "    {8.0} <music21.stream.Measure 3 offset=8.0>\n",
      "        {0.0} <music21.chord.Chord D3 F3 A3>\n",
      "        {2.0} <music21.chord.Chord C3 E3 G3>\n",
      "    {12.0} <music21.stream.Measure 4 offset=12.0>\n",
      "        {0.0} <music21.chord.Chord F3 G3 B3>\n",
      "        {2.0} <music21.chord.Chord C3 E3 G3>\n",
      "    {16.0} <music21.stream.Measure 5 offset=16.0>\n",
      "        {0.0} <music21.chord.Chord G3 C4>\n",
      "        {2.0} <music21.chord.Chord G3 B3>\n",
      "    {20.0} <music21.stream.Measure 6 offset=20.0>\n",
      "        {0.0} <music21.chord.Chord G3 C4>\n",
      "        {2.0} <music21.chord.Chord G3 B3>\n",
      "    {24.0} <music21.stream.Measure 7 offset=24.0>\n",
      "        {0.0} <music21.chord.Chord G3 C4>\n",
      "        {2.0} <music21.chord.Chord G3 B3>\n",
      "    {28.0} <music21.stream.Measure 8 offset=28.0>\n",
      "        {0.0} <music21.chord.Chord G3 C4>\n",
      "        {2.0} <music21.chord.Chord G3 B3>\n",
      "    {32.0} <music21.stream.Measure 9 offset=32.0>\n",
      "        {0.0} <music21.chord.Chord C3 E3 G3>\n",
      "    {36.0} <music21.stream.Measure 10 offset=36.0>\n",
      "        {0.0} <music21.chord.Chord C3 F3 A3>\n",
      "        {2.0} <music21.chord.Chord C3 E3 G3>\n",
      "    {40.0} <music21.stream.Measure 11 offset=40.0>\n",
      "        {0.0} <music21.chord.Chord D3 F3 A3>\n",
      "        {2.0} <music21.chord.Chord C3 E3 G3>\n",
      "    {44.0} <music21.stream.Measure 12 offset=44.0>\n",
      "        {0.0} <music21.chord.Chord F3 G3 B3>\n",
      "        {2.0} <music21.chord.Chord C3 E3 G3>\n",
      "    {48.0} <music21.stream.Measure 13 offset=48.0>\n",
      "        {0.0} <music21.note.Note C>\n",
      "        {0.5} <music21.note.Note E>\n",
      "        {1.0} <music21.note.Note G>\n",
      "        {2.0} <music21.note.Note C>\n",
      "        {2.5} <music21.note.Note E>\n",
      "        {3.0} <music21.note.Note G>\n",
      "    {52.0} <music21.stream.Measure 14 offset=52.0>\n",
      "        {0.0} <music21.note.Note C>\n",
      "        {0.5} <music21.note.Note F>\n",
      "        {1.0} <music21.note.Note A>\n",
      "        {2.0} <music21.note.Note C>\n",
      "        {2.5} <music21.note.Note E>\n",
      "        {3.0} <music21.note.Note G>\n",
      "    {56.0} <music21.stream.Measure 15 offset=56.0>\n",
      "        {0.0} <music21.note.Note D>\n",
      "        {0.5} <music21.note.Note F>\n",
      "        {1.0} <music21.note.Note A>\n",
      "        {2.0} <music21.note.Note C>\n",
      "        {2.5} <music21.note.Note E>\n",
      "        {3.0} <music21.note.Note G>\n",
      "    {60.0} <music21.stream.Measure 16 offset=60.0>\n",
      "        {0.0} <music21.note.Note F>\n",
      "        {0.5} <music21.note.Note G>\n",
      "        {1.0} <music21.note.Note B>\n",
      "        {2.0} <music21.note.Note C>\n",
      "        {2.5} <music21.note.Note E>\n",
      "        {3.0} <music21.note.Note G>\n",
      "        {4.0} <music21.bar.Barline type=final>\n"
     ]
    }
   ],
   "source": [
    "s.show(\"text\")"
   ]
  },
  {
   "cell_type": "code",
   "execution_count": 7,
   "id": "6e9402c1",
   "metadata": {},
   "outputs": [],
   "source": [
    "us = music21.environment.UserSettings()\n",
    "us['lilypondPath'] = \"C:\\\\Users\\\\helpdesk\\\\Desktop\\\\UniverFile\\\\mingus\\\\lilypond-2.25.13-mingw-x86_64\\\\lilypond-2.25.13\\\\bin\\\\lilypond.exe\""
   ]
  },
  {
   "cell_type": "code",
   "execution_count": 8,
   "id": "37244a4e",
   "metadata": {},
   "outputs": [
    {
     "data": {
      "text/plain": [
       "WindowsPath('C:/Users/helpdesk/Desktop/UniverFile/Final_Project/v1_program/Test_section/origin_song.pdf')"
      ]
     },
     "execution_count": 8,
     "metadata": {},
     "output_type": "execute_result"
    }
   ],
   "source": [
    "s.metadata = music21.metadata.Metadata()\n",
    "s.metadata.title = \"origin_song\"\n",
    "conv1 = music21.converter.subConverters.ConverterLilypond()\n",
    "scorename = 'origin_song'\n",
    "filepath = 'C:\\\\Users\\\\helpdesk\\\\Desktop\\\\UniverFile\\\\Final_Project\\\\v1_program\\\\Test_section\\\\' + scorename \n",
    "conv1.write(s, fmt = 'lilypond', fp=filepath, subformats = ['pdf'])\n"
   ]
  },
  {
   "cell_type": "code",
   "execution_count": 42,
   "id": "1e49c5f7",
   "metadata": {},
   "outputs": [
    {
     "data": {
      "text/plain": [
       "'origin_song.mid'"
      ]
     },
     "execution_count": 42,
     "metadata": {},
     "output_type": "execute_result"
    }
   ],
   "source": [
    "s.write('midi','origin_song.mid')"
   ]
  },
  {
   "cell_type": "code",
   "execution_count": 43,
   "id": "ac7fe185",
   "metadata": {},
   "outputs": [
    {
     "data": {
      "text/plain": [
       "WindowsPath('C:/Users/helpdesk/Desktop/UniverFile/Final_Project/v1_program/Test_section/testsong.pdf')"
      ]
     },
     "execution_count": 43,
     "metadata": {},
     "output_type": "execute_result"
    }
   ],
   "source": [
    "ss.metadata = music21.metadata.Metadata()\n",
    "ss.metadata.title = \"testsong\"\n",
    "conv2 =  music21.converter.subConverters.ConverterLilypond()\n",
    "scorename = 'testsong'\n",
    "filepath = 'C:\\\\Users\\\\helpdesk\\\\Desktop\\\\UniverFile\\\\Final_Project\\\\v1_program\\\\Test_section\\\\' + scorename \n",
    "conv2.write(ss, fmt = 'lilypond', fp=filepath, subformats = ['pdf'])"
   ]
  },
  {
   "cell_type": "code",
   "execution_count": 44,
   "id": "8a992700",
   "metadata": {},
   "outputs": [
    {
     "data": {
      "text/plain": [
       "'testsong.mid'"
      ]
     },
     "execution_count": 44,
     "metadata": {},
     "output_type": "execute_result"
    }
   ],
   "source": [
    "ss.write('midi','testsong.mid')"
   ]
  },
  {
   "cell_type": "code",
   "execution_count": null,
   "id": "1fc121d3",
   "metadata": {},
   "outputs": [],
   "source": []
  }
 ],
 "metadata": {
  "kernelspec": {
   "display_name": "Python 3 (ipykernel)",
   "language": "python",
   "name": "python3"
  },
  "language_info": {
   "codemirror_mode": {
    "name": "ipython",
    "version": 3
   },
   "file_extension": ".py",
   "mimetype": "text/x-python",
   "name": "python",
   "nbconvert_exporter": "python",
   "pygments_lexer": "ipython3",
   "version": "3.9.7"
  }
 },
 "nbformat": 4,
 "nbformat_minor": 5
}
